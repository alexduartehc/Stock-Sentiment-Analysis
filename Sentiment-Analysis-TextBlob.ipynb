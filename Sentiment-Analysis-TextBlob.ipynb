{
 "cells": [
  {
   "cell_type": "markdown",
   "metadata": {},
   "source": [
    "# Sentiment Classification using TextBlob\n",
    "\n",
    "## Introduction\n",
    "\n",
    "TextBlob is a Python library for processing and analyzing text.\n",
    "\n",
    "It’s built on top of NLTK and Pattern, and it provides an easy-to-use API for tasks like sentiment analysis, part-of-speech tagging, noun phrase extraction, and translation.\n",
    "\n",
    "For sentiment, TextBlob returns two key values: polarity (ranging from –1 for negative to +1 for positive) and subjectivity (0 for objective to 1 for subjective).\n",
    "\n",
    "It’s popular because it’s beginner-friendly yet powerful enough for quick natural language processing tasks."
   ]
  },
  {
   "cell_type": "markdown",
   "metadata": {},
   "source": [
    "## Imports"
   ]
  },
  {
   "cell_type": "code",
   "execution_count": 4,
   "metadata": {
    "executionInfo": {
     "elapsed": 485,
     "status": "ok",
     "timestamp": 1605620143745,
     "user": {
      "displayName": "László Nemes",
      "photoUrl": "https://lh3.googleusercontent.com/a-/AOh14GipYw9y7tCp0nX2PYupZ6jt-q6m9BZku8-jmPK6Bg=s64",
      "userId": "15128154694276965462"
     },
     "user_tz": -60
    },
    "id": "9guA39735Jkm"
   },
   "outputs": [],
   "source": [
    "import pandas as pd\n",
    "import numpy as np\n",
    "import matplotlib.pyplot as plt\n",
    "import yahoo_fin.stock_info as si\n",
    "from yahoo_fin import options\n",
    "from textblob import TextBlob\n",
    "import seaborn as sns\n",
    "from urllib.request import urlopen, Request\n",
    "from bs4 import BeautifulSoup\n",
    "import datetime"
   ]
  },
  {
   "cell_type": "markdown",
   "metadata": {},
   "source": [
    "## Selecting which stocks to follow"
   ]
  },
  {
   "cell_type": "code",
   "execution_count": 6,
   "metadata": {
    "executionInfo": {
     "elapsed": 582,
     "status": "ok",
     "timestamp": 1605620148936,
     "user": {
      "displayName": "László Nemes",
      "photoUrl": "https://lh3.googleusercontent.com/a-/AOh14GipYw9y7tCp0nX2PYupZ6jt-q6m9BZku8-jmPK6Bg=s64",
      "userId": "15128154694276965462"
     },
     "user_tz": -60
    },
    "id": "Kftpricb5TEl"
   },
   "outputs": [],
   "source": [
    "website_url = 'https://finviz.com/quote.ashx?t='\n",
    "company_tikcers = ['AMD', 'AMZN', 'FB', 'GOOG']"
   ]
  },
  {
   "cell_type": "markdown",
   "metadata": {},
   "source": [
    "## Creating a DataFrame with news headlines"
   ]
  },
  {
   "cell_type": "code",
   "execution_count": 7,
   "metadata": {
    "executionInfo": {
     "elapsed": 4346,
     "status": "ok",
     "timestamp": 1605620154455,
     "user": {
      "displayName": "László Nemes",
      "photoUrl": "https://lh3.googleusercontent.com/a-/AOh14GipYw9y7tCp0nX2PYupZ6jt-q6m9BZku8-jmPK6Bg=s64",
      "userId": "15128154694276965462"
     },
     "user_tz": -60
    },
    "id": "54ZqAOiZ5mNr"
   },
   "outputs": [],
   "source": [
    "news_tables = {}\n",
    "\n",
    "for ticker in company_tikcers:\n",
    "  url = website_url + ticker\n",
    "\n",
    "  req = Request(url=url, headers={'user-agent': 'my-scrape'})\n",
    "  response = urlopen(req)\n",
    "  html = BeautifulSoup(response, 'html')\n",
    "  news_data = html.find(id='news-table')\n",
    "  news_tables[ticker] = news_data"
   ]
  },
  {
   "cell_type": "code",
   "execution_count": 8,
   "metadata": {
    "executionInfo": {
     "elapsed": 493,
     "status": "ok",
     "timestamp": 1605620158185,
     "user": {
      "displayName": "László Nemes",
      "photoUrl": "https://lh3.googleusercontent.com/a-/AOh14GipYw9y7tCp0nX2PYupZ6jt-q6m9BZku8-jmPK6Bg=s64",
      "userId": "15128154694276965462"
     },
     "user_tz": -60
    },
    "id": "4T-svrdx5qA9"
   },
   "outputs": [],
   "source": [
    "parsed_data = []\n",
    "\n",
    "for ticker, news_table in news_tables.items():\n",
    "  for row in news_table.findAll('tr'):\n",
    "    title = row.a.text\n",
    "    date_data = row.td.text.split(' ')\n",
    "\n",
    "    if len(date_data) == 1:\n",
    "      time = date_data[0][0:7]\n",
    "    else:\n",
    "      date = datetime.datetime.strptime(date_data[0], '%b-%d-%y').strftime('%Y/%m/%d')\n",
    "      time = date_data[1][0:7]\n",
    "\n",
    "    parsed_data.append([ticker, date, time, title])"
   ]
  },
  {
   "cell_type": "code",
   "execution_count": 9,
   "metadata": {
    "colab": {
     "base_uri": "https://localhost:8080/",
     "height": 204
    },
    "executionInfo": {
     "elapsed": 390,
     "status": "ok",
     "timestamp": 1605620167146,
     "user": {
      "displayName": "László Nemes",
      "photoUrl": "https://lh3.googleusercontent.com/a-/AOh14GipYw9y7tCp0nX2PYupZ6jt-q6m9BZku8-jmPK6Bg=s64",
      "userId": "15128154694276965462"
     },
     "user_tz": -60
    },
    "id": "qr4Dk_2_5tBZ",
    "outputId": "a495d37b-feb8-47d6-95e4-4be18d7300ce"
   },
   "outputs": [
    {
     "data": {
      "text/html": [
       "<div>\n",
       "<style scoped>\n",
       "    .dataframe tbody tr th:only-of-type {\n",
       "        vertical-align: middle;\n",
       "    }\n",
       "\n",
       "    .dataframe tbody tr th {\n",
       "        vertical-align: top;\n",
       "    }\n",
       "\n",
       "    .dataframe thead th {\n",
       "        text-align: right;\n",
       "    }\n",
       "</style>\n",
       "<table border=\"1\" class=\"dataframe\">\n",
       "  <thead>\n",
       "    <tr style=\"text-align: right;\">\n",
       "      <th></th>\n",
       "      <th>Company</th>\n",
       "      <th>Date</th>\n",
       "      <th>Time</th>\n",
       "      <th>News Headline</th>\n",
       "    </tr>\n",
       "  </thead>\n",
       "  <tbody>\n",
       "    <tr>\n",
       "      <th>0</th>\n",
       "      <td>AMD</td>\n",
       "      <td>2020/11/17</td>\n",
       "      <td>06:30AM</td>\n",
       "      <td>Intel May Be Down, But It's Far From Being Out</td>\n",
       "    </tr>\n",
       "    <tr>\n",
       "      <th>1</th>\n",
       "      <td>AMD</td>\n",
       "      <td>2020/11/16</td>\n",
       "      <td>08:02PM</td>\n",
       "      <td>Samsung Intensifies Chip Wars With Bet It Can ...</td>\n",
       "    </tr>\n",
       "    <tr>\n",
       "      <th>2</th>\n",
       "      <td>AMD</td>\n",
       "      <td>2020/11/16</td>\n",
       "      <td>04:15PM</td>\n",
       "      <td>AMD to Present at Credit Suisse 24th Annual Te...</td>\n",
       "    </tr>\n",
       "    <tr>\n",
       "      <th>3</th>\n",
       "      <td>AMD</td>\n",
       "      <td>2020/11/16</td>\n",
       "      <td>10:29AM</td>\n",
       "      <td>Microsoft (MSFT) Detects Cyberattacks on COVID...</td>\n",
       "    </tr>\n",
       "    <tr>\n",
       "      <th>4</th>\n",
       "      <td>AMD</td>\n",
       "      <td>2020/11/16</td>\n",
       "      <td>09:45AM</td>\n",
       "      <td>NVIDIA Looks to Erase a Key AMD Advantage</td>\n",
       "    </tr>\n",
       "  </tbody>\n",
       "</table>\n",
       "</div>"
      ],
      "text/plain": [
       "  Company  ...                                      News Headline\n",
       "0     AMD  ...     Intel May Be Down, But It's Far From Being Out\n",
       "1     AMD  ...  Samsung Intensifies Chip Wars With Bet It Can ...\n",
       "2     AMD  ...  AMD to Present at Credit Suisse 24th Annual Te...\n",
       "3     AMD  ...  Microsoft (MSFT) Detects Cyberattacks on COVID...\n",
       "4     AMD  ...          NVIDIA Looks to Erase a Key AMD Advantage\n",
       "\n",
       "[5 rows x 4 columns]"
      ]
     },
     "execution_count": 9,
     "metadata": {
      "tags": []
     },
     "output_type": "execute_result"
    }
   ],
   "source": [
    "dataset = pd.DataFrame(parsed_data, columns=[\"Company\", \"Date\", \"Time\", \"News Headline\"])\n",
    "dataset.to_csv('CompanyNewsHeadlines_WithoutSentiment.csv', index=False)\n",
    "dataset.head()"
   ]
  },
  {
   "cell_type": "markdown",
   "metadata": {},
   "source": [
    "## Analysing the headlines using TextBlob"
   ]
  },
  {
   "cell_type": "code",
   "execution_count": 10,
   "metadata": {
    "executionInfo": {
     "elapsed": 520,
     "status": "ok",
     "timestamp": 1605620172496,
     "user": {
      "displayName": "László Nemes",
      "photoUrl": "https://lh3.googleusercontent.com/a-/AOh14GipYw9y7tCp0nX2PYupZ6jt-q6m9BZku8-jmPK6Bg=s64",
      "userId": "15128154694276965462"
     },
     "user_tz": -60
    },
    "id": "hU_9HNwH61W2"
   },
   "outputs": [],
   "source": [
    "def textblob_analysis(news_headline):\n",
    "  analysis = TextBlob(news_headline)\n",
    "  return analysis.sentiment.polarity"
   ]
  },
  {
   "cell_type": "code",
   "execution_count": 11,
   "metadata": {
    "executionInfo": {
     "elapsed": 721,
     "status": "ok",
     "timestamp": 1605620174187,
     "user": {
      "displayName": "László Nemes",
      "photoUrl": "https://lh3.googleusercontent.com/a-/AOh14GipYw9y7tCp0nX2PYupZ6jt-q6m9BZku8-jmPK6Bg=s64",
      "userId": "15128154694276965462"
     },
     "user_tz": -60
    },
    "id": "oS2juu9n52VL"
   },
   "outputs": [],
   "source": [
    "# Giving a value in the TextBlob scale to each headline\n",
    "dataset['Compound'] = dataset['News Headline'].apply(lambda headline: textblob_analysis(headline))"
   ]
  },
  {
   "cell_type": "code",
   "execution_count": 12,
   "metadata": {
    "colab": {
     "base_uri": "https://localhost:8080/",
     "height": 204
    },
    "executionInfo": {
     "elapsed": 579,
     "status": "ok",
     "timestamp": 1605620175397,
     "user": {
      "displayName": "László Nemes",
      "photoUrl": "https://lh3.googleusercontent.com/a-/AOh14GipYw9y7tCp0nX2PYupZ6jt-q6m9BZku8-jmPK6Bg=s64",
      "userId": "15128154694276965462"
     },
     "user_tz": -60
    },
    "id": "01MS-Y4C7tY-",
    "outputId": "8698ccb2-ea41-4407-a824-e785ce3816e8"
   },
   "outputs": [
    {
     "data": {
      "text/html": [
       "<div>\n",
       "<style scoped>\n",
       "    .dataframe tbody tr th:only-of-type {\n",
       "        vertical-align: middle;\n",
       "    }\n",
       "\n",
       "    .dataframe tbody tr th {\n",
       "        vertical-align: top;\n",
       "    }\n",
       "\n",
       "    .dataframe thead th {\n",
       "        text-align: right;\n",
       "    }\n",
       "</style>\n",
       "<table border=\"1\" class=\"dataframe\">\n",
       "  <thead>\n",
       "    <tr style=\"text-align: right;\">\n",
       "      <th></th>\n",
       "      <th>Company</th>\n",
       "      <th>Date</th>\n",
       "      <th>Time</th>\n",
       "      <th>News Headline</th>\n",
       "      <th>Compound</th>\n",
       "    </tr>\n",
       "  </thead>\n",
       "  <tbody>\n",
       "    <tr>\n",
       "      <th>0</th>\n",
       "      <td>AMD</td>\n",
       "      <td>2020/11/17</td>\n",
       "      <td>06:30AM</td>\n",
       "      <td>Intel May Be Down, But It's Far From Being Out</td>\n",
       "      <td>-0.027778</td>\n",
       "    </tr>\n",
       "    <tr>\n",
       "      <th>1</th>\n",
       "      <td>AMD</td>\n",
       "      <td>2020/11/16</td>\n",
       "      <td>08:02PM</td>\n",
       "      <td>Samsung Intensifies Chip Wars With Bet It Can ...</td>\n",
       "      <td>0.000000</td>\n",
       "    </tr>\n",
       "    <tr>\n",
       "      <th>2</th>\n",
       "      <td>AMD</td>\n",
       "      <td>2020/11/16</td>\n",
       "      <td>04:15PM</td>\n",
       "      <td>AMD to Present at Credit Suisse 24th Annual Te...</td>\n",
       "      <td>0.000000</td>\n",
       "    </tr>\n",
       "    <tr>\n",
       "      <th>3</th>\n",
       "      <td>AMD</td>\n",
       "      <td>2020/11/16</td>\n",
       "      <td>10:29AM</td>\n",
       "      <td>Microsoft (MSFT) Detects Cyberattacks on COVID...</td>\n",
       "      <td>0.000000</td>\n",
       "    </tr>\n",
       "    <tr>\n",
       "      <th>4</th>\n",
       "      <td>AMD</td>\n",
       "      <td>2020/11/16</td>\n",
       "      <td>09:45AM</td>\n",
       "      <td>NVIDIA Looks to Erase a Key AMD Advantage</td>\n",
       "      <td>0.000000</td>\n",
       "    </tr>\n",
       "  </tbody>\n",
       "</table>\n",
       "</div>"
      ],
      "text/plain": [
       "  Company  ...  Compound\n",
       "0     AMD  ... -0.027778\n",
       "1     AMD  ...  0.000000\n",
       "2     AMD  ...  0.000000\n",
       "3     AMD  ...  0.000000\n",
       "4     AMD  ...  0.000000\n",
       "\n",
       "[5 rows x 5 columns]"
      ]
     },
     "execution_count": 12,
     "metadata": {
      "tags": []
     },
     "output_type": "execute_result"
    }
   ],
   "source": [
    "dataset.head()"
   ]
  },
  {
   "cell_type": "markdown",
   "metadata": {},
   "source": [
    "### Conclude (based on the TextBlob Value) the sentiment of the headline"
   ]
  },
  {
   "cell_type": "code",
   "execution_count": 13,
   "metadata": {
    "executionInfo": {
     "elapsed": 658,
     "status": "ok",
     "timestamp": 1605620177478,
     "user": {
      "displayName": "László Nemes",
      "photoUrl": "https://lh3.googleusercontent.com/a-/AOh14GipYw9y7tCp0nX2PYupZ6jt-q6m9BZku8-jmPK6Bg=s64",
      "userId": "15128154694276965462"
     },
     "user_tz": -60
    },
    "id": "rChW6krY7zG9"
   },
   "outputs": [],
   "source": [
    "def sentiment_declareation(sentiment_value):\n",
    "  if -0.2 < sentiment_value <= 0.2:\n",
    "      return 'neu'\n",
    "  elif 0.2 < sentiment_value <= 1.0:\n",
    "      return 'pos'\n",
    "  elif -1.0 <= sentiment_value <= -0.2:\n",
    "      return 'neg'"
   ]
  },
  {
   "cell_type": "code",
   "execution_count": 14,
   "metadata": {
    "executionInfo": {
     "elapsed": 527,
     "status": "ok",
     "timestamp": 1605620179054,
     "user": {
      "displayName": "László Nemes",
      "photoUrl": "https://lh3.googleusercontent.com/a-/AOh14GipYw9y7tCp0nX2PYupZ6jt-q6m9BZku8-jmPK6Bg=s64",
      "userId": "15128154694276965462"
     },
     "user_tz": -60
    },
    "id": "8ZfDxX_z72oT"
   },
   "outputs": [],
   "source": [
    "dataset['Sentiment'] = dataset['Compound'].apply(lambda value: sentiment_declareation(value))"
   ]
  },
  {
   "cell_type": "code",
   "execution_count": 15,
   "metadata": {
    "executionInfo": {
     "elapsed": 375,
     "status": "ok",
     "timestamp": 1605620180128,
     "user": {
      "displayName": "László Nemes",
      "photoUrl": "https://lh3.googleusercontent.com/a-/AOh14GipYw9y7tCp0nX2PYupZ6jt-q6m9BZku8-jmPK6Bg=s64",
      "userId": "15128154694276965462"
     },
     "user_tz": -60
    },
    "id": "gJZv22q874kc"
   },
   "outputs": [],
   "source": [
    "dataset['Date'] = pd.to_datetime(dataset.Date).dt.date"
   ]
  },
  {
   "cell_type": "code",
   "execution_count": 16,
   "metadata": {
    "colab": {
     "base_uri": "https://localhost:8080/",
     "height": 204
    },
    "executionInfo": {
     "elapsed": 394,
     "status": "ok",
     "timestamp": 1605620181297,
     "user": {
      "displayName": "László Nemes",
      "photoUrl": "https://lh3.googleusercontent.com/a-/AOh14GipYw9y7tCp0nX2PYupZ6jt-q6m9BZku8-jmPK6Bg=s64",
      "userId": "15128154694276965462"
     },
     "user_tz": -60
    },
    "id": "-B-FkRvX766S",
    "outputId": "395712cb-6459-4996-a786-63dda300fd6f"
   },
   "outputs": [
    {
     "data": {
      "text/html": [
       "<div>\n",
       "<style scoped>\n",
       "    .dataframe tbody tr th:only-of-type {\n",
       "        vertical-align: middle;\n",
       "    }\n",
       "\n",
       "    .dataframe tbody tr th {\n",
       "        vertical-align: top;\n",
       "    }\n",
       "\n",
       "    .dataframe thead th {\n",
       "        text-align: right;\n",
       "    }\n",
       "</style>\n",
       "<table border=\"1\" class=\"dataframe\">\n",
       "  <thead>\n",
       "    <tr style=\"text-align: right;\">\n",
       "      <th></th>\n",
       "      <th>Company</th>\n",
       "      <th>Date</th>\n",
       "      <th>Time</th>\n",
       "      <th>News Headline</th>\n",
       "      <th>Compound</th>\n",
       "      <th>Sentiment</th>\n",
       "    </tr>\n",
       "  </thead>\n",
       "  <tbody>\n",
       "    <tr>\n",
       "      <th>0</th>\n",
       "      <td>AMD</td>\n",
       "      <td>2020-11-17</td>\n",
       "      <td>06:30AM</td>\n",
       "      <td>Intel May Be Down, But It's Far From Being Out</td>\n",
       "      <td>-0.027778</td>\n",
       "      <td>neu</td>\n",
       "    </tr>\n",
       "    <tr>\n",
       "      <th>1</th>\n",
       "      <td>AMD</td>\n",
       "      <td>2020-11-16</td>\n",
       "      <td>08:02PM</td>\n",
       "      <td>Samsung Intensifies Chip Wars With Bet It Can ...</td>\n",
       "      <td>0.000000</td>\n",
       "      <td>neu</td>\n",
       "    </tr>\n",
       "    <tr>\n",
       "      <th>2</th>\n",
       "      <td>AMD</td>\n",
       "      <td>2020-11-16</td>\n",
       "      <td>04:15PM</td>\n",
       "      <td>AMD to Present at Credit Suisse 24th Annual Te...</td>\n",
       "      <td>0.000000</td>\n",
       "      <td>neu</td>\n",
       "    </tr>\n",
       "    <tr>\n",
       "      <th>3</th>\n",
       "      <td>AMD</td>\n",
       "      <td>2020-11-16</td>\n",
       "      <td>10:29AM</td>\n",
       "      <td>Microsoft (MSFT) Detects Cyberattacks on COVID...</td>\n",
       "      <td>0.000000</td>\n",
       "      <td>neu</td>\n",
       "    </tr>\n",
       "    <tr>\n",
       "      <th>4</th>\n",
       "      <td>AMD</td>\n",
       "      <td>2020-11-16</td>\n",
       "      <td>09:45AM</td>\n",
       "      <td>NVIDIA Looks to Erase a Key AMD Advantage</td>\n",
       "      <td>0.000000</td>\n",
       "      <td>neu</td>\n",
       "    </tr>\n",
       "  </tbody>\n",
       "</table>\n",
       "</div>"
      ],
      "text/plain": [
       "  Company        Date  ...  Compound Sentiment\n",
       "0     AMD  2020-11-17  ... -0.027778       neu\n",
       "1     AMD  2020-11-16  ...  0.000000       neu\n",
       "2     AMD  2020-11-16  ...  0.000000       neu\n",
       "3     AMD  2020-11-16  ...  0.000000       neu\n",
       "4     AMD  2020-11-16  ...  0.000000       neu\n",
       "\n",
       "[5 rows x 6 columns]"
      ]
     },
     "execution_count": 16,
     "metadata": {
      "tags": []
     },
     "output_type": "execute_result"
    }
   ],
   "source": [
    "dataset.head()"
   ]
  },
  {
   "cell_type": "code",
   "execution_count": 17,
   "metadata": {
    "executionInfo": {
     "elapsed": 414,
     "status": "ok",
     "timestamp": 1605620183323,
     "user": {
      "displayName": "László Nemes",
      "photoUrl": "https://lh3.googleusercontent.com/a-/AOh14GipYw9y7tCp0nX2PYupZ6jt-q6m9BZku8-jmPK6Bg=s64",
      "userId": "15128154694276965462"
     },
     "user_tz": -60
    },
    "id": "Qb1GJHBi8QPC"
   },
   "outputs": [],
   "source": [
    "dataset.to_csv('CompanyNewsHeadlines.csv', index=False)"
   ]
  },
  {
   "cell_type": "markdown",
   "metadata": {},
   "source": [
    "## Selecting the timeframe where we consider our sentiment insights can be applied (for each stock)"
   ]
  },
  {
   "cell_type": "code",
   "execution_count": 18,
   "metadata": {
    "colab": {
     "base_uri": "https://localhost:8080/",
     "height": 235
    },
    "executionInfo": {
     "elapsed": 415,
     "status": "ok",
     "timestamp": 1605620184841,
     "user": {
      "displayName": "László Nemes",
      "photoUrl": "https://lh3.googleusercontent.com/a-/AOh14GipYw9y7tCp0nX2PYupZ6jt-q6m9BZku8-jmPK6Bg=s64",
      "userId": "15128154694276965462"
     },
     "user_tz": -60
    },
    "id": "ZyOg7qR98id8",
    "outputId": "6c373428-25b4-489e-aef1-a98312509241"
   },
   "outputs": [
    {
     "data": {
      "text/html": [
       "<div>\n",
       "<style scoped>\n",
       "    .dataframe tbody tr th:only-of-type {\n",
       "        vertical-align: middle;\n",
       "    }\n",
       "\n",
       "    .dataframe tbody tr th {\n",
       "        vertical-align: top;\n",
       "    }\n",
       "\n",
       "    .dataframe thead tr th {\n",
       "        text-align: left;\n",
       "    }\n",
       "\n",
       "    .dataframe thead tr:last-of-type th {\n",
       "        text-align: right;\n",
       "    }\n",
       "</style>\n",
       "<table border=\"1\" class=\"dataframe\">\n",
       "  <thead>\n",
       "    <tr>\n",
       "      <th></th>\n",
       "      <th colspan=\"2\" halign=\"left\">Date</th>\n",
       "    </tr>\n",
       "    <tr>\n",
       "      <th></th>\n",
       "      <th>amin</th>\n",
       "      <th>amax</th>\n",
       "    </tr>\n",
       "    <tr>\n",
       "      <th>Company</th>\n",
       "      <th></th>\n",
       "      <th></th>\n",
       "    </tr>\n",
       "  </thead>\n",
       "  <tbody>\n",
       "    <tr>\n",
       "      <th>AMD</th>\n",
       "      <td>2020-10-27</td>\n",
       "      <td>2020-11-17</td>\n",
       "    </tr>\n",
       "    <tr>\n",
       "      <th>AMZN</th>\n",
       "      <td>2020-11-12</td>\n",
       "      <td>2020-11-17</td>\n",
       "    </tr>\n",
       "    <tr>\n",
       "      <th>FB</th>\n",
       "      <td>2020-11-06</td>\n",
       "      <td>2020-11-17</td>\n",
       "    </tr>\n",
       "    <tr>\n",
       "      <th>GOOG</th>\n",
       "      <td>2020-11-10</td>\n",
       "      <td>2020-11-17</td>\n",
       "    </tr>\n",
       "  </tbody>\n",
       "</table>\n",
       "</div>"
      ],
      "text/plain": [
       "               Date            \n",
       "               amin        amax\n",
       "Company                        \n",
       "AMD      2020-10-27  2020-11-17\n",
       "AMZN     2020-11-12  2020-11-17\n",
       "FB       2020-11-06  2020-11-17\n",
       "GOOG     2020-11-10  2020-11-17"
      ]
     },
     "execution_count": 18,
     "metadata": {
      "tags": []
     },
     "output_type": "execute_result"
    }
   ],
   "source": [
    "max_min_date = dataset.groupby(['Company']).agg({'Date': [np.min,np.max]})\n",
    "max_min_date"
   ]
  },
  {
   "cell_type": "code",
   "execution_count": 19,
   "metadata": {
    "colab": {
     "base_uri": "https://localhost:8080/",
     "height": 204
    },
    "executionInfo": {
     "elapsed": 430,
     "status": "ok",
     "timestamp": 1605620187474,
     "user": {
      "displayName": "László Nemes",
      "photoUrl": "https://lh3.googleusercontent.com/a-/AOh14GipYw9y7tCp0nX2PYupZ6jt-q6m9BZku8-jmPK6Bg=s64",
      "userId": "15128154694276965462"
     },
     "user_tz": -60
    },
    "id": "BXPKjQV98lvn",
    "outputId": "138d3ebf-481a-4d80-bca5-bfff85fbc9f8"
   },
   "outputs": [
    {
     "data": {
      "text/html": [
       "<div>\n",
       "<style scoped>\n",
       "    .dataframe tbody tr th:only-of-type {\n",
       "        vertical-align: middle;\n",
       "    }\n",
       "\n",
       "    .dataframe tbody tr th {\n",
       "        vertical-align: top;\n",
       "    }\n",
       "\n",
       "    .dataframe thead th {\n",
       "        text-align: right;\n",
       "    }\n",
       "</style>\n",
       "<table border=\"1\" class=\"dataframe\">\n",
       "  <thead>\n",
       "    <tr style=\"text-align: right;\">\n",
       "      <th></th>\n",
       "      <th>Company</th>\n",
       "      <th>Date</th>\n",
       "      <th>Time</th>\n",
       "      <th>News Headline</th>\n",
       "      <th>Compound</th>\n",
       "      <th>Sentiment</th>\n",
       "      <th>MaxDate</th>\n",
       "      <th>MinDate</th>\n",
       "    </tr>\n",
       "  </thead>\n",
       "  <tbody>\n",
       "    <tr>\n",
       "      <th>0</th>\n",
       "      <td>AMD</td>\n",
       "      <td>2020-11-17</td>\n",
       "      <td>06:30AM</td>\n",
       "      <td>Intel May Be Down, But It's Far From Being Out</td>\n",
       "      <td>-0.027778</td>\n",
       "      <td>neu</td>\n",
       "      <td>2020-11-17</td>\n",
       "      <td>2020-10-27</td>\n",
       "    </tr>\n",
       "    <tr>\n",
       "      <th>1</th>\n",
       "      <td>AMD</td>\n",
       "      <td>2020-11-16</td>\n",
       "      <td>08:02PM</td>\n",
       "      <td>Samsung Intensifies Chip Wars With Bet It Can ...</td>\n",
       "      <td>0.000000</td>\n",
       "      <td>neu</td>\n",
       "      <td>2020-11-17</td>\n",
       "      <td>2020-10-27</td>\n",
       "    </tr>\n",
       "    <tr>\n",
       "      <th>2</th>\n",
       "      <td>AMD</td>\n",
       "      <td>2020-11-16</td>\n",
       "      <td>04:15PM</td>\n",
       "      <td>AMD to Present at Credit Suisse 24th Annual Te...</td>\n",
       "      <td>0.000000</td>\n",
       "      <td>neu</td>\n",
       "      <td>2020-11-17</td>\n",
       "      <td>2020-10-27</td>\n",
       "    </tr>\n",
       "    <tr>\n",
       "      <th>3</th>\n",
       "      <td>AMD</td>\n",
       "      <td>2020-11-16</td>\n",
       "      <td>10:29AM</td>\n",
       "      <td>Microsoft (MSFT) Detects Cyberattacks on COVID...</td>\n",
       "      <td>0.000000</td>\n",
       "      <td>neu</td>\n",
       "      <td>2020-11-17</td>\n",
       "      <td>2020-10-27</td>\n",
       "    </tr>\n",
       "    <tr>\n",
       "      <th>4</th>\n",
       "      <td>AMD</td>\n",
       "      <td>2020-11-16</td>\n",
       "      <td>09:45AM</td>\n",
       "      <td>NVIDIA Looks to Erase a Key AMD Advantage</td>\n",
       "      <td>0.000000</td>\n",
       "      <td>neu</td>\n",
       "      <td>2020-11-17</td>\n",
       "      <td>2020-10-27</td>\n",
       "    </tr>\n",
       "  </tbody>\n",
       "</table>\n",
       "</div>"
      ],
      "text/plain": [
       "  Company        Date     Time  ... Sentiment     MaxDate     MinDate\n",
       "0     AMD  2020-11-17  06:30AM  ...       neu  2020-11-17  2020-10-27\n",
       "1     AMD  2020-11-16  08:02PM  ...       neu  2020-11-17  2020-10-27\n",
       "2     AMD  2020-11-16  04:15PM  ...       neu  2020-11-17  2020-10-27\n",
       "3     AMD  2020-11-16  10:29AM  ...       neu  2020-11-17  2020-10-27\n",
       "4     AMD  2020-11-16  09:45AM  ...       neu  2020-11-17  2020-10-27\n",
       "\n",
       "[5 rows x 8 columns]"
      ]
     },
     "execution_count": 19,
     "metadata": {
      "tags": []
     },
     "output_type": "execute_result"
    }
   ],
   "source": [
    "dataset['MaxDate'] = dataset.groupby('Company').Date.transform('max')\n",
    "dataset['MinDate'] = dataset.groupby('Company').Date.transform('min')\n",
    "\n",
    "dataset.head()"
   ]
  },
  {
   "cell_type": "code",
   "execution_count": 20,
   "metadata": {
    "colab": {
     "base_uri": "https://localhost:8080/"
    },
    "executionInfo": {
     "elapsed": 407,
     "status": "ok",
     "timestamp": 1605620189211,
     "user": {
      "displayName": "László Nemes",
      "photoUrl": "https://lh3.googleusercontent.com/a-/AOh14GipYw9y7tCp0nX2PYupZ6jt-q6m9BZku8-jmPK6Bg=s64",
      "userId": "15128154694276965462"
     },
     "user_tz": -60
    },
    "id": "r3XKP3ar8pB7",
    "outputId": "80db46b8-bc99-4d5f-a4fa-0257f4ae08a2"
   },
   "outputs": [
    {
     "data": {
      "text/plain": [
       "{'AMD': {'early': datetime.date(2020, 10, 27),\n",
       "  'late': datetime.date(2020, 11, 17)},\n",
       " 'AMZN': {'early': datetime.date(2020, 11, 12),\n",
       "  'late': datetime.date(2020, 11, 17)},\n",
       " 'FB': {'early': datetime.date(2020, 11, 6),\n",
       "  'late': datetime.date(2020, 11, 17)},\n",
       " 'GOOG': {'early': datetime.date(2020, 11, 10),\n",
       "  'late': datetime.date(2020, 11, 17)}}"
      ]
     },
     "execution_count": 20,
     "metadata": {
      "tags": []
     },
     "output_type": "execute_result"
    }
   ],
   "source": [
    "company_early_late_dates = {}\n",
    "\n",
    "for index, row in dataset.iterrows():\n",
    "  if row['Company'] in company_early_late_dates:\n",
    "      company_early_late_dates[row['Company']]['early'] = row['MinDate']\n",
    "      company_early_late_dates[row['Company']]['late'] = row['MaxDate']\n",
    "  else:\n",
    "    company_early_late_dates[row['Company']] = {'early': None, 'late': None}\n",
    "\n",
    "company_early_late_dates"
   ]
  },
  {
   "cell_type": "code",
   "execution_count": 21,
   "metadata": {
    "colab": {
     "base_uri": "https://localhost:8080/"
    },
    "executionInfo": {
     "elapsed": 1326,
     "status": "ok",
     "timestamp": 1605620192938,
     "user": {
      "displayName": "László Nemes",
      "photoUrl": "https://lh3.googleusercontent.com/a-/AOh14GipYw9y7tCp0nX2PYupZ6jt-q6m9BZku8-jmPK6Bg=s64",
      "userId": "15128154694276965462"
     },
     "user_tz": -60
    },
    "id": "QJ5_ymNI8wXK",
    "outputId": "cf893f89-1e84-408c-e6f5-cba8849e7dd5"
   },
   "outputs": [
    {
     "name": "stdout",
     "output_type": "stream",
     "text": [
      "AMD -> {'early': datetime.date(2020, 10, 27), 'late': datetime.date(2020, 11, 17)}\n",
      "AMZN -> {'early': datetime.date(2020, 11, 12), 'late': datetime.date(2020, 11, 17)}\n",
      "FB -> {'early': datetime.date(2020, 11, 6), 'late': datetime.date(2020, 11, 17)}\n",
      "GOOG -> {'early': datetime.date(2020, 11, 10), 'late': datetime.date(2020, 11, 17)}\n"
     ]
    }
   ],
   "source": [
    "for key, value in company_early_late_dates.items():\n",
    "  print(key, '->', value)\n",
    "  tmp_df = si.get_data(key, start_date=value['early'], end_date=value['late'])\n",
    "  tmp_df['date'] = tmp_df.index\n",
    "  tmp_df.to_csv(key + '_TextBlob.csv', index=False)"
   ]
  },
  {
   "cell_type": "markdown",
   "metadata": {},
   "source": [
    "### Count the resulting number of positive, neutral and negative sentiment classifications"
   ]
  },
  {
   "cell_type": "code",
   "execution_count": 22,
   "metadata": {
    "colab": {
     "base_uri": "https://localhost:8080/"
    },
    "executionInfo": {
     "elapsed": 372,
     "status": "ok",
     "timestamp": 1605620194477,
     "user": {
      "displayName": "László Nemes",
      "photoUrl": "https://lh3.googleusercontent.com/a-/AOh14GipYw9y7tCp0nX2PYupZ6jt-q6m9BZku8-jmPK6Bg=s64",
      "userId": "15128154694276965462"
     },
     "user_tz": -60
    },
    "id": "4nd4ZxRM80Kk",
    "outputId": "6863380a-79b9-4368-83b7-1462be7d1dfa"
   },
   "outputs": [
    {
     "data": {
      "text/plain": [
       "{'neg': 19, 'neu': 301, 'pos': 80}"
      ]
     },
     "execution_count": 22,
     "metadata": {
      "tags": []
     },
     "output_type": "execute_result"
    }
   ],
   "source": [
    "sentiment_result = {}\n",
    "for value in dataset['Sentiment']:\n",
    "  if value in sentiment_result:\n",
    "    if value == 'neu':\n",
    "      sentiment_result['neu'] += 1\n",
    "    elif value == 'pos':\n",
    "      sentiment_result['pos'] += 1\n",
    "    elif value == 'neg':\n",
    "      sentiment_result['neg'] += 1\n",
    "  else:\n",
    "    sentiment_result[value] = 1\n",
    "\n",
    "sentiment_result"
   ]
  },
  {
   "cell_type": "markdown",
   "metadata": {},
   "source": [
    "### Represent the positive-neutral-negative sentiment classifications by company"
   ]
  },
  {
   "cell_type": "code",
   "execution_count": 23,
   "metadata": {
    "colab": {
     "base_uri": "https://localhost:8080/"
    },
    "executionInfo": {
     "elapsed": 541,
     "status": "ok",
     "timestamp": 1605620196312,
     "user": {
      "displayName": "László Nemes",
      "photoUrl": "https://lh3.googleusercontent.com/a-/AOh14GipYw9y7tCp0nX2PYupZ6jt-q6m9BZku8-jmPK6Bg=s64",
      "userId": "15128154694276965462"
     },
     "user_tz": -60
    },
    "id": "9DtL-Qky83cb",
    "outputId": "1f88beff-c068-495c-f12e-8137e1bb579f"
   },
   "outputs": [
    {
     "data": {
      "text/plain": [
       "{'AMD': {'neg': 5, 'neu': 63, 'pos': 31},\n",
       " 'AMZN': {'neg': 4, 'neu': 75, 'pos': 20},\n",
       " 'FB': {'neg': 5, 'neu': 82, 'pos': 12},\n",
       " 'GOOG': {'neg': 5, 'neu': 78, 'pos': 16}}"
      ]
     },
     "execution_count": 23,
     "metadata": {
      "tags": []
     },
     "output_type": "execute_result"
    }
   ],
   "source": [
    "result_by_companies = {}\n",
    "for index, row in dataset.iterrows():\n",
    "  if row['Company'] in result_by_companies:\n",
    "    if row['Sentiment'] == 'neu':\n",
    "      result_by_companies[row['Company']]['neu'] +=1\n",
    "    if row['Sentiment'] == 'pos':\n",
    "      result_by_companies[row['Company']]['pos'] +=1\n",
    "    if row['Sentiment'] == 'neg':\n",
    "      result_by_companies[row['Company']]['neg'] +=1\n",
    "  else:\n",
    "    result_by_companies[row['Company']] = {'neg': 0, 'neu': 0, 'pos': 0}\n",
    "\n",
    "result_by_companies"
   ]
  },
  {
   "cell_type": "code",
   "execution_count": 24,
   "metadata": {
    "colab": {
     "base_uri": "https://localhost:8080/",
     "height": 241
    },
    "executionInfo": {
     "elapsed": 395,
     "status": "ok",
     "timestamp": 1605620198260,
     "user": {
      "displayName": "László Nemes",
      "photoUrl": "https://lh3.googleusercontent.com/a-/AOh14GipYw9y7tCp0nX2PYupZ6jt-q6m9BZku8-jmPK6Bg=s64",
      "userId": "15128154694276965462"
     },
     "user_tz": -60
    },
    "id": "315eMjdE8N8A",
    "outputId": "a1f7ffd3-37b9-4209-dc99-4f6f106e98aa"
   },
   "outputs": [
    {
     "name": "stdout",
     "output_type": "stream",
     "text": [
      "AMD -> {'neg': 5, 'neu': 63, 'pos': 31}\n",
      "AMZN -> {'neg': 4, 'neu': 75, 'pos': 20}\n",
      "FB -> {'neg': 5, 'neu': 82, 'pos': 12}\n",
      "GOOG -> {'neg': 5, 'neu': 78, 'pos': 16}\n"
     ]
    },
    {
     "data": {
      "text/html": [
       "<div>\n",
       "<style scoped>\n",
       "    .dataframe tbody tr th:only-of-type {\n",
       "        vertical-align: middle;\n",
       "    }\n",
       "\n",
       "    .dataframe tbody tr th {\n",
       "        vertical-align: top;\n",
       "    }\n",
       "\n",
       "    .dataframe thead th {\n",
       "        text-align: right;\n",
       "    }\n",
       "</style>\n",
       "<table border=\"1\" class=\"dataframe\">\n",
       "  <thead>\n",
       "    <tr style=\"text-align: right;\">\n",
       "      <th></th>\n",
       "      <th>Company</th>\n",
       "      <th>Neg</th>\n",
       "      <th>Neu</th>\n",
       "      <th>Pos</th>\n",
       "    </tr>\n",
       "  </thead>\n",
       "  <tbody>\n",
       "    <tr>\n",
       "      <th>0</th>\n",
       "      <td>AMD</td>\n",
       "      <td>5</td>\n",
       "      <td>63</td>\n",
       "      <td>31</td>\n",
       "    </tr>\n",
       "    <tr>\n",
       "      <th>1</th>\n",
       "      <td>AMZN</td>\n",
       "      <td>4</td>\n",
       "      <td>75</td>\n",
       "      <td>20</td>\n",
       "    </tr>\n",
       "    <tr>\n",
       "      <th>2</th>\n",
       "      <td>FB</td>\n",
       "      <td>5</td>\n",
       "      <td>82</td>\n",
       "      <td>12</td>\n",
       "    </tr>\n",
       "    <tr>\n",
       "      <th>3</th>\n",
       "      <td>GOOG</td>\n",
       "      <td>5</td>\n",
       "      <td>78</td>\n",
       "      <td>16</td>\n",
       "    </tr>\n",
       "  </tbody>\n",
       "</table>\n",
       "</div>"
      ],
      "text/plain": [
       "  Company  Neg  Neu  Pos\n",
       "0     AMD    5   63   31\n",
       "1    AMZN    4   75   20\n",
       "2      FB    5   82   12\n",
       "3    GOOG    5   78   16"
      ]
     },
     "execution_count": 24,
     "metadata": {
      "tags": []
     },
     "output_type": "execute_result"
    }
   ],
   "source": [
    "dataframe_list = []\n",
    "for key, value in result_by_companies.items():\n",
    "  print(key, '->', value)\n",
    "  dataframe_list.append([key, value['neg'], value['neu'], value['pos']])\n",
    "\n",
    "\n",
    "dataset_company = pd.DataFrame(dataframe_list, columns=[\"Company\", \"Neg\", \"Neu\", \"Pos\"])\n",
    "dataset_company.head()"
   ]
  },
  {
   "cell_type": "markdown",
   "metadata": {},
   "source": [
    "## Bar Graph"
   ]
  },
  {
   "cell_type": "code",
   "execution_count": 25,
   "metadata": {
    "colab": {
     "base_uri": "https://localhost:8080/",
     "height": 269
    },
    "executionInfo": {
     "elapsed": 697,
     "status": "ok",
     "timestamp": 1605620200673,
     "user": {
      "displayName": "László Nemes",
      "photoUrl": "https://lh3.googleusercontent.com/a-/AOh14GipYw9y7tCp0nX2PYupZ6jt-q6m9BZku8-jmPK6Bg=s64",
      "userId": "15128154694276965462"
     },
     "user_tz": -60
    },
    "id": "YHSHh2r18NsK",
    "outputId": "07a91a3b-9d21-4295-bb4d-577f23198c21"
   },
   "outputs": [
    {
     "data": {
      "image/png": "[encoded data removed]",
      "text/plain": [
       "<Figure size 432x288 with 1 Axes>"
      ]
     },
     "metadata": {
      "needs_background": "light",
      "tags": []
     },
     "output_type": "display_data"
    }
   ],
   "source": [
    "index = np.arange(len(company_tikcers))\n",
    "score_label = np.arange(0, 110, 10)\n",
    "\n",
    "bar_width = 0.35\n",
    "\n",
    "fig, ax = plt.subplots()\n",
    "barNeg = ax.bar(index - bar_width, dataset_company['Neg'], bar_width, label='Neg')\n",
    "barNeu = ax.bar(index, dataset_company['Neu'], bar_width, label='Neu')\n",
    "barPos = ax.bar(index + bar_width, dataset_company['Pos'], bar_width, label='Pos')\n",
    "\n",
    "ax.set_xticks(index)\n",
    "ax.set_xticklabels(company_tikcers)\n",
    "\n",
    "ax.set_yticks(score_label)\n",
    "ax.set_yticklabels(score_label)\n",
    "\n",
    "\n",
    "ax.legend()\n",
    "\n",
    "def insert_data_labels(bars):\n",
    "  for bar in bars:\n",
    "    bar_height = bar.get_height()\n",
    "    ax.annotate('{0:.0f}'.format(bar.get_height()),\n",
    "                xy=(bar.get_x() + bar.get_width() / 2, bar_height),\n",
    "                xytext=(0,3),\n",
    "                textcoords='offset points',\n",
    "                ha='center',\n",
    "                va='bottom'\n",
    "    )\n",
    "\n",
    "insert_data_labels(barNeg)\n",
    "insert_data_labels(barNeu)\n",
    "insert_data_labels(barPos)\n",
    "\n",
    "plt.show()"
   ]
  },
  {
   "cell_type": "markdown",
   "metadata": {},
   "source": [
    "## Average sentiment by company"
   ]
  },
  {
   "cell_type": "code",
   "execution_count": 26,
   "metadata": {
    "executionInfo": {
     "elapsed": 712,
     "status": "ok",
     "timestamp": 1605620203623,
     "user": {
      "displayName": "László Nemes",
      "photoUrl": "https://lh3.googleusercontent.com/a-/AOh14GipYw9y7tCp0nX2PYupZ6jt-q6m9BZku8-jmPK6Bg=s64",
      "userId": "15128154694276965462"
     },
     "user_tz": -60
    },
    "id": "f3fRirLx88_G"
   },
   "outputs": [],
   "source": [
    "mean_df = dataset.groupby(['Company', 'Date']).mean()"
   ]
  },
  {
   "cell_type": "code",
   "execution_count": 27,
   "metadata": {
    "colab": {
     "base_uri": "https://localhost:8080/",
     "height": 480
    },
    "executionInfo": {
     "elapsed": 1016,
     "status": "ok",
     "timestamp": 1605620205174,
     "user": {
      "displayName": "László Nemes",
      "photoUrl": "https://lh3.googleusercontent.com/a-/AOh14GipYw9y7tCp0nX2PYupZ6jt-q6m9BZku8-jmPK6Bg=s64",
      "userId": "15128154694276965462"
     },
     "user_tz": -60
    },
    "id": "eLfAX5P58-8f",
    "outputId": "7ecf8829-faeb-4b82-bdaa-11b98b75187f"
   },
   "outputs": [
    {
     "data": {
      "text/plain": [
       "<matplotlib.axes._subplots.AxesSubplot at 0x7f1e0cbb4358>"
      ]
     },
     "execution_count": 27,
     "metadata": {
      "tags": []
     },
     "output_type": "execute_result"
    },
    {
     "data": {
      "image/png": "[encoded data removed]",
      "text/plain": [
       "<Figure size 1166.4x468 with 1 Axes>"
      ]
     },
     "metadata": {
      "needs_background": "light",
      "tags": []
     },
     "output_type": "display_data"
    }
   ],
   "source": [
    "mean_df = mean_df.unstack()\n",
    "mean_df = mean_df.xs('Compound', axis='columns').transpose()\n",
    "mean_df.plot(kind='bar', figsize=(16.2, 6.5))"
   ]
  },
  {
   "cell_type": "markdown",
   "metadata": {},
   "source": [
    "## Pie Chart"
   ]
  },
  {
   "cell_type": "code",
   "execution_count": 28,
   "metadata": {
    "executionInfo": {
     "elapsed": 386,
     "status": "ok",
     "timestamp": 1605620207919,
     "user": {
      "displayName": "László Nemes",
      "photoUrl": "https://lh3.googleusercontent.com/a-/AOh14GipYw9y7tCp0nX2PYupZ6jt-q6m9BZku8-jmPK6Bg=s64",
      "userId": "15128154694276965462"
     },
     "user_tz": -60
    },
    "id": "BWULqbCD9Gik"
   },
   "outputs": [],
   "source": [
    "def percentage(part, whole):\n",
    "  temp = 100 * float(part) / float(whole)\n",
    "  return format(temp, '.2f')"
   ]
  },
  {
   "cell_type": "code",
   "execution_count": 29,
   "metadata": {
    "executionInfo": {
     "elapsed": 391,
     "status": "ok",
     "timestamp": 1605620209775,
     "user": {
      "displayName": "László Nemes",
      "photoUrl": "https://lh3.googleusercontent.com/a-/AOh14GipYw9y7tCp0nX2PYupZ6jt-q6m9BZku8-jmPK6Bg=s64",
      "userId": "15128154694276965462"
     },
     "user_tz": -60
    },
    "id": "In_xVgrb9JwR"
   },
   "outputs": [],
   "source": [
    "def visualization(positive, neutral, negative):\n",
    "  labels = ['Positive [' + str(positive) + '%]','Neutral [' + str(neutral) + '%]',\n",
    "            'Negative [' + str(negative) + '%]']\n",
    "  sizes = [positive, neutral, negative]\n",
    "  colors = ['lightgreen', 'gold', 'red']\n",
    "  patches, texts = plt.pie(sizes, colors=colors, startangle=90)\n",
    "  plt.title('Aggregate sentiment value of the economic news headlines')\n",
    "  plt.legend(patches, labels, loc=\"best\")\n",
    "  plt.axis('equal')\n",
    "  plt.tight_layout()\n",
    "  plt.show()"
   ]
  },
  {
   "cell_type": "code",
   "execution_count": 30,
   "metadata": {
    "executionInfo": {
     "elapsed": 443,
     "status": "ok",
     "timestamp": 1605620211166,
     "user": {
      "displayName": "László Nemes",
      "photoUrl": "https://lh3.googleusercontent.com/a-/AOh14GipYw9y7tCp0nX2PYupZ6jt-q6m9BZku8-jmPK6Bg=s64",
      "userId": "15128154694276965462"
     },
     "user_tz": -60
    },
    "id": "AHUdL6upmlak"
   },
   "outputs": [],
   "source": [
    "def company_specific_sentiment_visualization(company_name):\n",
    "  company_df = dataset[dataset['Company'] == company_name]\n",
    "  temp = company_df.groupby(['Company', 'Date']).mean()\n",
    "  temp= temp.unstack()\n",
    "  temp = temp.xs('Compound', axis='columns').transpose()\n",
    "  temp.plot(kind='line', figsize=(16.2, 6.5))"
   ]
  },
  {
   "cell_type": "code",
   "execution_count": 31,
   "metadata": {
    "executionInfo": {
     "elapsed": 572,
     "status": "ok",
     "timestamp": 1605620213167,
     "user": {
      "displayName": "László Nemes",
      "photoUrl": "https://lh3.googleusercontent.com/a-/AOh14GipYw9y7tCp0nX2PYupZ6jt-q6m9BZku8-jmPK6Bg=s64",
      "userId": "15128154694276965462"
     },
     "user_tz": -60
    },
    "id": "gJ1SW8RQzrul"
   },
   "outputs": [],
   "source": [
    "def company_specific_sentiment_and_stockclose_day_focus_visualization(company_name, company_stock_dataframe):\n",
    "  company_specific = dataset[dataset['Company'] == company_name]\n",
    "  temp_company = company_specific.groupby(['Company', 'Date']).mean()\n",
    "  temp_company.to_csv(company_name + '_SentimentAndValueOnDays.csv')\n",
    "\n",
    "  temp_dataframe = pd.read_csv(\"/content/\" + company_name + \"_SentimentAndValueOnDays.csv\")\n",
    "  temp_dataframe['adjclose'] = temp_dataframe.Date.map(company_stock_dataframe.set_index('date')['adjclose'].to_dict())\n",
    "  temp_dataframe = temp_dataframe.dropna(subset=['adjclose'])\n",
    "  return temp_dataframe"
   ]
  },
  {
   "cell_type": "code",
   "execution_count": 32,
   "metadata": {
    "executionInfo": {
     "elapsed": 454,
     "status": "ok",
     "timestamp": 1605620214833,
     "user": {
      "displayName": "László Nemes",
      "photoUrl": "https://lh3.googleusercontent.com/a-/AOh14GipYw9y7tCp0nX2PYupZ6jt-q6m9BZku8-jmPK6Bg=s64",
      "userId": "15128154694276965462"
     },
     "user_tz": -60
    },
    "id": "SlxFpZFqzma9"
   },
   "outputs": [],
   "source": [
    "def company_compound_adjclose_normalized(company_name, company_combinated_dataframe):\n",
    "  normalized_df=(company_combinated_dataframe-company_combinated_dataframe.mean())/company_combinated_dataframe.std()\n",
    "\n",
    "  plt.figure(figsize=(16.2, 6.5))\n",
    "  plt.title(company_name + ': Normalized AdjClose values with Compounds')\n",
    "  plt.plot(company_combinated_dataframe['Date'], normalized_df['Compound'], label='compound')\n",
    "  plt.plot(company_combinated_dataframe['Date'], normalized_df['adjclose'], label='adjclose')\n",
    "  plt.xticks(rotation=70)\n",
    "  plt.xlabel('Date')\n",
    "  plt.ylabel('Compound')\n",
    "  plt.legend()\n",
    "  plt.show()"
   ]
  },
  {
   "cell_type": "code",
   "execution_count": 33,
   "metadata": {
    "colab": {
     "base_uri": "https://localhost:8080/",
     "height": 297
    },
    "executionInfo": {
     "elapsed": 770,
     "status": "ok",
     "timestamp": 1605620217009,
     "user": {
      "displayName": "László Nemes",
      "photoUrl": "https://lh3.googleusercontent.com/a-/AOh14GipYw9y7tCp0nX2PYupZ6jt-q6m9BZku8-jmPK6Bg=s64",
      "userId": "15128154694276965462"
     },
     "user_tz": -60
    },
    "id": "dxllrhjq9PWZ",
    "outputId": "e59f572a-eb8c-4df0-c821-6b5a3efb02a7"
   },
   "outputs": [
    {
     "data": {
      "image/png": "[encoded data removed]",
      "text/plain": [
       "<Figure size 432x288 with 1 Axes>"
      ]
     },
     "metadata": {
      "tags": []
     },
     "output_type": "display_data"
    }
   ],
   "source": [
    "all_num = sentiment_result['pos'] + sentiment_result['neu'] + sentiment_result['neg']\n",
    "pos_percent = percentage(part=sentiment_result['pos'], whole=all_num)\n",
    "neu_percent = percentage(part=sentiment_result['neu'], whole=all_num)\n",
    "neg_percent = percentage(part=sentiment_result['neg'], whole=all_num)\n",
    "\n",
    "visualization(positive=pos_percent,neutral=neu_percent, negative=neg_percent)"
   ]
  }
 ],
 "metadata": {
  "colab": {
   "authorship_tag": "ABX9TyM7E/UzENopzcMPMGj1BxnH",
   "collapsed_sections": [],
   "name": "TextBlob-Sentiment-Analysis-Stock-Headlines.ipynb",
   "provenance": []
  },
  "kernelspec": {
   "display_name": "Python 3",
   "name": "python3"
  }
 },
 "nbformat": 4,
 "nbformat_minor": 0
}
